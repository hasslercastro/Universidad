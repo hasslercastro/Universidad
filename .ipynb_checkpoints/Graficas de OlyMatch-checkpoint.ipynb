{
 "cells": [
  {
   "cell_type": "code",
   "execution_count": 179,
   "metadata": {},
   "outputs": [
    {
     "name": "stdout",
     "output_type": "stream",
     "text": [
      "{'Noviembre': 4}\n"
     ]
    }
   ],
   "source": [
    "#Importar pymongo que permite la conexion con la base de datos en mongo\n",
    "import pymongo\n",
    "import matplotlib.pyplot as plt\n",
    "import numpy as np\n",
    "plt.style.available\n",
    "\n",
    "#Aqui se establece la conexion con la base de datos, por defecto se conecta al puerto 27017 del localhost\n",
    "client = pymongo.MongoClient() \n",
    "db = client.Oly\n",
    "events = db.eventos.find()\n",
    "people = {}\n",
    "months = {}\n",
    "\n",
    "def bringDate(date):\n",
    "    if(date == \"01\"): return \"Enero\"\n",
    "    if(date == \"02\"): return \"Febrero\"\n",
    "    if(date == \"03\"): return \"Marzo\"\n",
    "    if(date == \"04\"): return \"Abril\"\n",
    "    if(date == \"05\"): return \"Mayo\"\n",
    "    if(date == \"06\"): return \"Junio\"\n",
    "    if(date == \"07\"): return \"Julio\"\n",
    "    if(date == \"08\"): return \"Agosto\"\n",
    "    if(date == \"09\"): return \"Septiembre\"\n",
    "    if(date == \"10\"): return \"Octubre\"\n",
    "    if(date == \"11\"): return \"Noviembre\"\n",
    "    if(date == \"12\"): return \"Diciembre\"\n",
    "    \n",
    "def bringCareer(studentCode):\n",
    "    careerCode = studentCode[-3:]\n",
    "    career = \"\"\n",
    "    if(careerCode == \"010\"): career = \"Ingenieria de Sistemas\"\n",
    "    if(careerCode == \"004\"): career = \"Ingenieria de Procesos\"\n",
    "    if(careerCode == \"085\"): career = \"Ingenieria de Diseño de producto\"\n",
    "    if(careerCode == \"168\"): career = \"Psicologia\"\n",
    "    if(careerCode == \"012\"): career = \"Ingenieria de Produccion\"\n",
    "    if(careerCode == \"015\"): career = \"Geologia\"\n",
    "    if(careerCode == \"183\"): career = \"Biologia\"\n",
    "    if(careerCode == \"003\"): career = \"Economia\"\n",
    "    if(careerCode == \"169\"): career = \"Mercadeo\"\n",
    "    if(careerCode == \"199\"): career = \"Finanzas\"\n",
    "    if(careerCode == \"101\"): career = \"Ingenieria matematica\"\n",
    "    if(careerCode == \"111\"): career = \"Ciencias Politicas\"\n",
    "    if(careerCode == \"112\"): career = \"Comunicacion Social\"\n",
    "    if(careerCode == \"113\"): career = \"Ingenieria Fisica\"\n",
    "    if(careerCode == \"083\"): career = \"Musica\"\n",
    "    if(careerCode == \"084\"): career = \"Derecho\"\n",
    "    if(careerCode == \"001\"): career = \"Administracion de Negocios\"\n",
    "    if(careerCode == \"002\"): career = \"Negocios Internacionales\"\n",
    "    if(careerCode == \"011\"): career = \"Contaduria publica\"\n",
    "    if(careerCode == \"013\"): career = \"Ingenieria Civil\"\n",
    "    if(careerCode == \"014\"): career = \"Ingenieria Mecanica\"   \n",
    "    \n",
    "    return career\n",
    "    \n",
    "\n",
    "for event in events:\n",
    "    \n",
    "    date = event[\"fecha\"]\n",
    "    date = date[3:5]\n",
    "    date = bringDate(date)\n",
    "    try:   \n",
    "        months[date] +=1 \n",
    "    except:\n",
    "        months[date] = 1\n",
    "    \n",
    "    for member in event[\"participantes\"]:\n",
    "        def checkError():\n",
    "            try:\n",
    "                 people[event[\"deporte\"][\"nombre\"]] \n",
    "            except: \n",
    "                  return -1\n",
    "        if ( checkError() == -1 ):\n",
    "            people[event[\"deporte\"][\"nombre\"]] = {bringCareer(member[\"codigo\"]) : 1}\n",
    "        else:\n",
    "            try:\n",
    "                people[event[\"deporte\"][\"nombre\"]][bringCareer(member[\"codigo\"])] += 1\n",
    "            except:\n",
    "                people[event[\"deporte\"][\"nombre\"]].update({bringCareer(member[\"codigo\"]) : 1})\n",
    "        \n",
    "                \n",
    "\n",
    "print (months)\n"
   ]
  },
  {
   "cell_type": "markdown",
   "metadata": {},
   "source": [
    "# ESTA GRAFICA MUESTRA LA CANTIDAD DE EVENTOS QUE SE HAN REALIZADO SEGUN EL MES"
   ]
  },
  {
   "cell_type": "code",
   "execution_count": 180,
   "metadata": {
    "collapsed": true
   },
   "outputs": [],
   "source": [
    "finalCareers = []\n",
    "timesCareers = []\n",
    "keepSaveGraphs = []\n",
    "\n",
    "for key , value in people.items():\n",
    "    for keey , valuee in value.items():\n",
    "        finalCareers.append(keey)\n",
    "        timesCareers.append(valuee)\n",
    "    keepSaveGraphs.append((finalCareers,timesCareers,key))\n",
    "    timesCareers = []\n",
    "    finalCareers = []"
   ]
  },
  {
   "cell_type": "code",
   "execution_count": 181,
   "metadata": {},
   "outputs": [
    {
     "name": "stdout",
     "output_type": "stream",
     "text": [
      "[5, 8, 3, 4]\n",
      "['enero', 'febrero', 'marzo', 'Noviembre']\n"
     ]
    },
    {
     "data": {
      "image/png": "[encoded data removed]",
      "text/plain": [
       "<matplotlib.figure.Figure at 0x253021922e8>"
      ]
     },
     "metadata": {},
     "output_type": "display_data"
    }
   ],
   "source": [
    "specificMonth = []\n",
    "times = []\n",
    "\n",
    "#borrar las lineas que tienen identacion sin sentido\n",
    "times.append(5)    \n",
    "specificMonth.append(\"enero\")\n",
    "times.append(8)\n",
    "specificMonth.append(\"febrero\")\n",
    "times.append(3)\n",
    "specificMonth.append(\"marzo\")\n",
    "\n",
    "\n",
    "\n",
    "\n",
    "\n",
    "for month,time in months.items():\n",
    "    specificMonth.append(month)\n",
    "    times.append(time)\n",
    "    \n",
    "print(times)\n",
    "print(specificMonth)\n",
    "\n",
    "fig = plt.figure()\n",
    "ax1 = fig.add_subplot(211)\n",
    "xx = range(1,len(times)+1)\n",
    "\n",
    "ax1.bar(xx, times, width = 0.5, color = (0,0,1) , align = 'center')\n",
    "ax1.set_xticks(xx)\n",
    "ax1.set_xticklabels(specificMonth)\n",
    "ax.set_ylabel('Numero de eventos')\n",
    "plt.show()\n",
    "\n",
    "    \n",
    "    "
   ]
  },
  {
   "cell_type": "markdown",
   "metadata": {},
   "source": [
    "# GRAFICAS QUE MUESTRAN EL PORCENTAJE DE PERSONAS EN UNA CARRERA Y QUE                                                    JUEGAN UN DEPORTE ESPECIFICO."
   ]
  },
  {
   "cell_type": "code",
   "execution_count": 182,
   "metadata": {},
   "outputs": [
    {
     "data": {
      "image/png": "[encoded data removed]",
      "text/plain": [
       "<matplotlib.figure.Figure at 0x25301459860>"
      ]
     },
     "metadata": {},
     "output_type": "display_data"
    },
    {
     "data": {
      "image/png": "[encoded data removed]",
      "text/plain": [
       "<matplotlib.figure.Figure at 0x25304a3ab00>"
      ]
     },
     "metadata": {},
     "output_type": "display_data"
    }
   ],
   "source": [
    "\n",
    "for graph in keepSaveGraphs:\n",
    "    plt.title(\"Deporte: \" + graph[2], fontname='Calibri', fontsize=25,\n",
    "            fontstyle='italic', fontweight='bold',\n",
    "            color='black')\n",
    "    plt.pie(graph[1],labels=graph[0], shadow = False , autopct = '%1.1f%%',startangle=90)\n",
    "    plt.axis('equal')\n",
    "    plt.tight_layout()\n",
    "    plt.show()\n",
    "    "
   ]
  }
 ],
 "metadata": {
  "kernelspec": {
   "display_name": "Python 3",
   "language": "python",
   "name": "python3"
  },
  "language_info": {
   "codemirror_mode": {
    "name": "ipython",
    "version": 3
   },
   "file_extension": ".py",
   "mimetype": "text/x-python",
   "name": "python",
   "nbconvert_exporter": "python",
   "pygments_lexer": "ipython3",
   "version": "3.6.1"
  }
 },
 "nbformat": 4,
 "nbformat_minor": 2
}
